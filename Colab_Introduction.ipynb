{
  "nbformat": 4,
  "nbformat_minor": 0,
  "metadata": {
    "colab": {
      "name": "Colab Introduction",
      "provenance": [],
      "collapsed_sections": [],
      "toc_visible": true,
      "include_colab_link": true
    },
    "kernelspec": {
      "name": "python3",
      "display_name": "Python 3"
    }
  },
  "cells": [
    {
      "cell_type": "markdown",
      "metadata": {
        "id": "view-in-github",
        "colab_type": "text"
      },
      "source": [
        "<a href=\"https://colab.research.google.com/github/VincentTatan/Analytics-Practicum/blob/master/Colab_Introduction.ipynb\" target=\"_parent\"><img src=\"https://colab.research.google.com/assets/colab-badge.svg\" alt=\"Open In Colab\"/></a>"
      ]
    },
    {
      "cell_type": "markdown",
      "metadata": {
        "id": "2GfWEOIFmYaF",
        "colab_type": "text"
      },
      "source": [
        "# Installing Libraries"
      ]
    },
    {
      "cell_type": "code",
      "metadata": {
        "id": "z28lNUKZz63K",
        "colab_type": "code",
        "outputId": "8a2ee1f2-3da8-4570-8828-22c36cd230b9",
        "colab": {
          "base_uri": "https://localhost:8080/",
          "height": 1000
        }
      },
      "source": [
        "!pip freeze"
      ],
      "execution_count": 27,
      "outputs": [
        {
          "output_type": "stream",
          "text": [
            "absl-py==0.9.0\n",
            "alabaster==0.7.12\n",
            "albumentations==0.1.12\n",
            "altair==4.1.0\n",
            "asgiref==3.2.7\n",
            "astor==0.8.1\n",
            "astropy==4.0.1.post1\n",
            "astunparse==1.6.3\n",
            "atari-py==0.2.6\n",
            "atomicwrites==1.4.0\n",
            "attrs==19.3.0\n",
            "audioread==2.1.8\n",
            "autograd==1.3\n",
            "Babel==2.8.0\n",
            "backcall==0.1.0\n",
            "beautifulsoup4==4.6.3\n",
            "bleach==3.1.5\n",
            "blis==0.4.1\n",
            "bokeh==1.4.0\n",
            "boto==2.49.0\n",
            "boto3==1.13.4\n",
            "botocore==1.16.4\n",
            "Bottleneck==1.3.2\n",
            "branca==0.4.1\n",
            "bs4==0.0.1\n",
            "CacheControl==0.12.6\n",
            "cachetools==3.1.1\n",
            "catalogue==1.0.0\n",
            "certifi==2020.4.5.1\n",
            "cffi==1.14.0\n",
            "chainer==6.5.0\n",
            "chardet==3.0.4\n",
            "click==7.1.2\n",
            "cloudpickle==1.3.0\n",
            "cmake==3.12.0\n",
            "cmdstanpy==0.4.0\n",
            "colorlover==0.3.0\n",
            "community==1.0.0b1\n",
            "contextlib2==0.5.5\n",
            "convertdate==2.2.0\n",
            "coverage==3.7.1\n",
            "coveralls==0.5\n",
            "crcmod==1.7\n",
            "cufflinks==0.17.3\n",
            "cvxopt==1.2.5\n",
            "cvxpy==1.0.31\n",
            "cycler==0.10.0\n",
            "cymem==2.0.3\n",
            "Cython==0.29.17\n",
            "daft==0.0.4\n",
            "dask==2.12.0\n",
            "dataclasses==0.7\n",
            "datascience==0.10.6\n",
            "decorator==4.4.2\n",
            "defusedxml==0.6.0\n",
            "descartes==1.1.0\n",
            "dill==0.3.1.1\n",
            "distributed==1.25.3\n",
            "Django==3.0.6\n",
            "dlib==19.18.0\n",
            "docopt==0.6.2\n",
            "docutils==0.15.2\n",
            "dopamine-rl==1.0.5\n",
            "earthengine-api==0.1.221\n",
            "easydict==1.9\n",
            "ecos==2.0.7.post1\n",
            "editdistance==0.5.3\n",
            "en-core-web-sm==2.2.5\n",
            "entrypoints==0.3\n",
            "ephem==3.7.7.1\n",
            "et-xmlfile==1.0.1\n",
            "fa2==0.3.5\n",
            "fancyimpute==0.4.3\n",
            "fastai==1.0.61\n",
            "fastdtw==0.3.4\n",
            "fastprogress==0.2.3\n",
            "fastrlock==0.4\n",
            "fbprophet==0.6\n",
            "feather-format==0.4.1\n",
            "featuretools==0.4.1\n",
            "filelock==3.0.12\n",
            "firebase-admin==4.1.0\n",
            "fix-yahoo-finance==0.0.22\n",
            "Flask==1.1.2\n",
            "folium==0.8.3\n",
            "fsspec==0.7.3\n",
            "future==0.16.0\n",
            "gast==0.3.3\n",
            "GDAL==2.2.2\n",
            "gdown==3.6.4\n",
            "gensim==3.6.0\n",
            "geographiclib==1.50\n",
            "geopy==1.17.0\n",
            "gin-config==0.3.0\n",
            "glob2==0.7\n",
            "google==2.0.3\n",
            "google-api-core==1.16.0\n",
            "google-api-python-client==1.7.12\n",
            "google-auth==1.7.2\n",
            "google-auth-httplib2==0.0.3\n",
            "google-auth-oauthlib==0.4.1\n",
            "google-cloud-bigquery==1.21.0\n",
            "google-cloud-core==1.0.3\n",
            "google-cloud-datastore==1.8.0\n",
            "google-cloud-firestore==1.6.2\n",
            "google-cloud-language==1.2.0\n",
            "google-cloud-storage==1.18.1\n",
            "google-cloud-translate==1.5.0\n",
            "google-colab==1.0.0\n",
            "google-pasta==0.2.0\n",
            "google-resumable-media==0.4.1\n",
            "googleapis-common-protos==1.51.0\n",
            "googledrivedownloader==0.4\n",
            "graphviz==0.10.1\n",
            "grpcio==1.28.1\n",
            "gspread==3.0.1\n",
            "gspread-dataframe==3.0.6\n",
            "gym==0.17.1\n",
            "h5py==2.10.0\n",
            "HeapDict==1.0.1\n",
            "holidays==0.9.12\n",
            "html5lib==1.0.1\n",
            "httpimport==0.5.18\n",
            "httplib2==0.17.3\n",
            "httplib2shim==0.0.3\n",
            "humanize==0.5.1\n",
            "hyperopt==0.1.2\n",
            "ideep4py==2.0.0.post3\n",
            "idna==2.9\n",
            "image==1.5.31\n",
            "imagecodecs==2020.2.18\n",
            "imageio==2.4.1\n",
            "imagesize==1.2.0\n",
            "imbalanced-learn==0.4.3\n",
            "imblearn==0.0\n",
            "imgaug==0.2.9\n",
            "importlib-metadata==1.6.0\n",
            "imutils==0.5.3\n",
            "inflect==2.1.0\n",
            "intel-openmp==2020.0.133\n",
            "intervaltree==2.1.0\n",
            "ipykernel==4.10.1\n",
            "ipython==5.5.0\n",
            "ipython-genutils==0.2.0\n",
            "ipython-sql==0.3.9\n",
            "ipywidgets==7.5.1\n",
            "itsdangerous==1.1.0\n",
            "jax==0.1.64\n",
            "jaxlib==0.1.45\n",
            "jdcal==1.4.1\n",
            "jedi==0.17.0\n",
            "jieba==0.42.1\n",
            "Jinja2==2.11.2\n",
            "jmespath==0.9.5\n",
            "joblib==0.14.1\n",
            "jpeg4py==0.1.4\n",
            "jsonschema==2.6.0\n",
            "jupyter==1.0.0\n",
            "jupyter-client==5.3.4\n",
            "jupyter-console==5.2.0\n",
            "jupyter-core==4.6.3\n",
            "kaggle==1.5.6\n",
            "kapre==0.1.3.1\n",
            "Keras==2.3.1\n",
            "Keras-Applications==1.0.8\n",
            "Keras-Preprocessing==1.1.0\n",
            "keras-vis==0.4.1\n",
            "kiwisolver==1.2.0\n",
            "knnimpute==0.1.0\n",
            "librosa==0.6.3\n",
            "lightgbm==2.2.3\n",
            "llvmlite==0.31.0\n",
            "lmdb==0.98\n",
            "lucid==0.3.8\n",
            "LunarCalendar==0.0.9\n",
            "lxml==4.2.6\n",
            "Markdown==3.2.1\n",
            "MarkupSafe==1.1.1\n",
            "matplotlib==3.2.1\n",
            "matplotlib-venn==0.11.5\n",
            "missingno==0.4.2\n",
            "mistune==0.8.4\n",
            "mizani==0.6.0\n",
            "mkl==2019.0\n",
            "mlxtend==0.14.0\n",
            "more-itertools==8.2.0\n",
            "moviepy==0.2.3.5\n",
            "mpmath==1.1.0\n",
            "msgpack==1.0.0\n",
            "multiprocess==0.70.9\n",
            "multitasking==0.0.9\n",
            "murmurhash==1.0.2\n",
            "music21==5.5.0\n",
            "natsort==5.5.0\n",
            "nbconvert==5.6.1\n",
            "nbformat==5.0.6\n",
            "networkx==2.4\n",
            "nibabel==3.0.2\n",
            "nltk==3.2.5\n",
            "notebook==5.2.2\n",
            "np-utils==0.5.12.1\n",
            "numba==0.48.0\n",
            "numexpr==2.7.1\n",
            "numpy==1.18.4\n",
            "nvidia-ml-py3==7.352.0\n",
            "oauth2client==4.1.3\n",
            "oauthlib==3.1.0\n",
            "okgrade==0.4.3\n",
            "opencv-contrib-python==4.1.2.30\n",
            "opencv-python==4.1.2.30\n",
            "openpyxl==2.5.9\n",
            "opt-einsum==3.2.1\n",
            "osqp==0.6.1\n",
            "packaging==20.3\n",
            "palettable==3.3.0\n",
            "pandas==1.0.3\n",
            "pandas-datareader==0.8.1\n",
            "pandas-gbq==0.11.0\n",
            "pandas-profiling==1.4.1\n",
            "pandocfilters==1.4.2\n",
            "parso==0.7.0\n",
            "pathlib==1.0.1\n",
            "patsy==0.5.1\n",
            "pexpect==4.8.0\n",
            "pickleshare==0.7.5\n",
            "Pillow==7.0.0\n",
            "pip-tools==4.5.1\n",
            "plac==1.1.3\n",
            "plotly==4.4.1\n",
            "plotnine==0.6.0\n",
            "pluggy==0.7.1\n",
            "portpicker==1.3.1\n",
            "prefetch-generator==1.0.1\n",
            "preshed==3.0.2\n",
            "prettytable==0.7.2\n",
            "progressbar2==3.38.0\n",
            "prometheus-client==0.7.1\n",
            "promise==2.3\n",
            "prompt-toolkit==1.0.18\n",
            "protobuf==3.10.0\n",
            "psutil==5.4.8\n",
            "psycopg2==2.7.6.1\n",
            "ptvsd==5.0.0a12\n",
            "ptyprocess==0.6.0\n",
            "py==1.8.1\n",
            "pyarrow==0.14.1\n",
            "pyasn1==0.4.8\n",
            "pyasn1-modules==0.2.8\n",
            "pycocotools==2.0.0\n",
            "pycparser==2.20\n",
            "pydata-google-auth==1.1.0\n",
            "pydot==1.3.0\n",
            "pydot-ng==2.0.0\n",
            "pydotplus==2.0.2\n",
            "PyDrive==1.3.1\n",
            "pyemd==0.5.1\n",
            "pyglet==1.5.0\n",
            "Pygments==2.1.3\n",
            "pygobject==3.26.1\n",
            "pymc3==3.7\n",
            "PyMeeus==0.3.7\n",
            "pymongo==3.10.1\n",
            "pymystem3==0.2.0\n",
            "PyOpenGL==3.1.5\n",
            "pyparsing==2.4.7\n",
            "pyrsistent==0.16.0\n",
            "pysndfile==1.3.8\n",
            "PySocks==1.7.1\n",
            "pystan==2.19.1.1\n",
            "pytest==3.6.4\n",
            "python-apt==1.6.5+ubuntu0.2\n",
            "python-chess==0.23.11\n",
            "python-dateutil==2.8.1\n",
            "python-louvain==0.14\n",
            "python-slugify==4.0.0\n",
            "python-utils==2.4.0\n",
            "pytz==2018.9\n",
            "PyWavelets==1.1.1\n",
            "PyYAML==3.13\n",
            "pyzmq==19.0.1\n",
            "qtconsole==4.7.4\n",
            "QtPy==1.9.0\n",
            "regex==2019.12.20\n",
            "requests==2.23.0\n",
            "requests-oauthlib==1.3.0\n",
            "resampy==0.2.2\n",
            "retrying==1.3.3\n",
            "rpy2==3.2.7\n",
            "rsa==4.0\n",
            "s3fs==0.4.2\n",
            "s3transfer==0.3.3\n",
            "scikit-image==0.16.2\n",
            "scikit-learn==0.22.2.post1\n",
            "scipy==1.4.1\n",
            "screen-resolution-extra==0.0.0\n",
            "scs==2.1.2\n",
            "seaborn==0.10.1\n",
            "Send2Trash==1.5.0\n",
            "setuptools-git==1.2\n",
            "Shapely==1.7.0\n",
            "simplegeneric==0.8.1\n",
            "six==1.12.0\n",
            "sklearn==0.0\n",
            "sklearn-pandas==1.8.0\n",
            "smart-open==2.0.0\n",
            "snowballstemmer==2.0.0\n",
            "sortedcontainers==2.1.0\n",
            "spacy==2.2.4\n",
            "Sphinx==1.8.5\n",
            "sphinxcontrib-websupport==1.2.2\n",
            "SQLAlchemy==1.3.16\n",
            "sqlparse==0.3.1\n",
            "srsly==1.0.2\n",
            "statsmodels==0.10.2\n",
            "sympy==1.1.1\n",
            "tables==3.4.4\n",
            "tabulate==0.8.7\n",
            "tbb==2020.0.133\n",
            "tblib==1.6.0\n",
            "tensorboard==2.2.1\n",
            "tensorboard-plugin-wit==1.6.0.post3\n",
            "tensorboardcolab==0.0.22\n",
            "tensorflow==2.2.0\n",
            "tensorflow-addons==0.8.3\n",
            "tensorflow-datasets==2.1.0\n",
            "tensorflow-estimator==2.2.0\n",
            "tensorflow-gcs-config==2.1.8\n",
            "tensorflow-hub==0.8.0\n",
            "tensorflow-metadata==0.21.2\n",
            "tensorflow-privacy==0.2.2\n",
            "tensorflow-probability==0.10.0rc0\n",
            "termcolor==1.1.0\n",
            "terminado==0.8.3\n",
            "testpath==0.4.4\n",
            "text-unidecode==1.3\n",
            "textblob==0.15.3\n",
            "textgenrnn==1.4.1\n",
            "Theano==1.0.4\n",
            "thinc==7.4.0\n",
            "tifffile==2020.5.11\n",
            "toolz==0.10.0\n",
            "torch==1.5.0+cu101\n",
            "torchsummary==1.5.1\n",
            "torchtext==0.3.1\n",
            "torchvision==0.6.0+cu101\n",
            "tornado==4.5.3\n",
            "tqdm==4.41.1\n",
            "traitlets==4.3.3\n",
            "tweepy==3.6.0\n",
            "typeguard==2.7.1\n",
            "typing==3.6.6\n",
            "typing-extensions==3.6.6\n",
            "tzlocal==1.5.1\n",
            "umap-learn==0.4.2\n",
            "uritemplate==3.0.1\n",
            "urllib3==1.24.3\n",
            "vega-datasets==0.8.0\n",
            "wasabi==0.6.0\n",
            "wcwidth==0.1.9\n",
            "webencodings==0.5.1\n",
            "Werkzeug==1.0.1\n",
            "widgetsnbextension==3.5.1\n",
            "wordcloud==1.5.0\n",
            "wrapt==1.12.1\n",
            "xarray==0.15.1\n",
            "xgboost==0.90\n",
            "xkit==0.0.0\n",
            "xlrd==1.1.0\n",
            "xlwt==1.3.0\n",
            "yellowbrick==0.9.1\n",
            "zict==2.0.0\n",
            "zipp==3.1.0\n"
          ],
          "name": "stdout"
        }
      ]
    },
    {
      "cell_type": "code",
      "metadata": {
        "id": "hq6Wp1OY0EQH",
        "colab_type": "code",
        "outputId": "2ef475cc-a65b-44a8-b986-c473d2818f90",
        "colab": {
          "base_uri": "https://localhost:8080/",
          "height": 281
        }
      },
      "source": [
        "import matplotlib.pyplot as plt\n",
        "import numpy as np\n",
        "\n",
        "n = 5 + np.random.randn(1000)\n",
        "_, axes = plt.subplots(1, 2, figsize=(12,4))\n",
        "\n",
        "axes[0].hist(n, bins=20)\n",
        "axes[0].set_title(\"Histogram\")\n",
        "axes[0].set_xlim((min(n), max(n)))\n",
        "\n",
        "axes[1].hist(n, cumulative=True, bins=20)\n",
        "axes[1].set_title(\"Cumulative histogram\")\n",
        "axes[1].set_xlim((min(n), max(n)));"
      ],
      "execution_count": 28,
      "outputs": [
        {
          "output_type": "display_data",
          "data": {
            "image/png": "[encoded data removed]",
            "text/plain": [
              "<Figure size 864x288 with 2 Axes>"
            ]
          },
          "metadata": {
            "tags": [],
            "needs_background": "light"
          }
        }
      ]
    },
    {
      "cell_type": "markdown",
      "metadata": {
        "id": "UAdAr_wO1AIc",
        "colab_type": "text"
      },
      "source": [
        "# Magics"
      ]
    },
    {
      "cell_type": "markdown",
      "metadata": {
        "id": "Az3e2L2x1KxW",
        "colab_type": "text"
      },
      "source": [
        "## %%Shell"
      ]
    },
    {
      "cell_type": "code",
      "metadata": {
        "id": "oxrV3reY0x3S",
        "colab_type": "code",
        "outputId": "f9af4f6c-3a09-4dbf-914f-e636a147dd8d",
        "colab": {
          "height": 190
        }
      },
      "source": [
        "%%shell\n",
        "\n",
        "cat /proc/cpuinfo |& head -10\n",
        "#@test {\"output\": \"ignore\"}"
      ],
      "execution_count": 0,
      "outputs": [
        {
          "output_type": "display_data",
          "data": {
            "application/javascript": [
              "window[\"6b71acb2-97f4-11ea-8884-772403f27500\"] = colab.output.setWordWrap(true);\n",
              "//# sourceURL=js_794f6d60df"
            ],
            "text/plain": [
              "<IPython.core.display.Javascript at 0x7f9dad131c88>"
            ]
          },
          "metadata": {
            "tags": []
          }
        },
        {
          "output_type": "display_data",
          "data": {
            "application/javascript": [
              "window[\"6b76b784-97f4-11ea-8884-772403f27500\"] = jQuery(\"<div class=id_695424692 style=\\\"margin-right:10px; display:flex;align-items:center;margin-top:10px;\\\"><span style=\\\"margin-right: 3px;\\\"></span></div>\");\n",
              "//# sourceURL=js_8bcb55635f"
            ],
            "text/plain": [
              "<IPython.core.display.Javascript at 0x7f9dac958278>"
            ]
          },
          "metadata": {
            "tags": []
          }
        },
        {
          "output_type": "display_data",
          "data": {
            "application/javascript": [
              "window[\"6b76f53c-97f4-11ea-8884-772403f27500\"] = jQuery(\"#output-footer\");\n",
              "//# sourceURL=js_77eaa5de7e"
            ],
            "text/plain": [
              "<IPython.core.display.Javascript at 0x7f9dac958278>"
            ]
          },
          "metadata": {
            "tags": []
          }
        },
        {
          "output_type": "display_data",
          "data": {
            "application/javascript": [
              "window[\"6b770ef0-97f4-11ea-8884-772403f27500\"] = window[\"6b76b784-97f4-11ea-8884-772403f27500\"].appendTo(window[\"6b76f53c-97f4-11ea-8884-772403f27500\"]);\n",
              "//# sourceURL=js_aeb380e063"
            ],
            "text/plain": [
              "<IPython.core.display.Javascript at 0x7f9dac958518>"
            ]
          },
          "metadata": {
            "tags": []
          }
        },
        {
          "output_type": "display_data",
          "data": {
            "application/javascript": [
              "window[\"6b772b1a-97f4-11ea-8884-772403f27500\"] = jQuery(\".id_695424692 span\");\n",
              "//# sourceURL=js_c30c59ede7"
            ],
            "text/plain": [
              "<IPython.core.display.Javascript at 0x7f9dac958518>"
            ]
          },
          "metadata": {
            "tags": []
          }
        },
        {
          "output_type": "display_data",
          "data": {
            "application/javascript": [
              "window[\"6b77429e-97f4-11ea-8884-772403f27500\"] = window[\"6b772b1a-97f4-11ea-8884-772403f27500\"].text(\">\");\n",
              "//# sourceURL=js_e0bf69b2c4"
            ],
            "text/plain": [
              "<IPython.core.display.Javascript at 0x7f9dac958518>"
            ]
          },
          "metadata": {
            "tags": []
          }
        },
        {
          "output_type": "stream",
          "text": [
            "processor\t: 0\n",
            "vendor_id\t: GenuineIntel\n",
            "cpu family\t: 6\n",
            "model\t\t: 79\n",
            "model name\t: Intel(R) Xeon(R) CPU E5-2696 v4 @ 2.20GHz\n",
            "stepping\t: 1\n",
            "microcode\t: 0xb000038\n",
            "cpu MHz\t\t: 2437.629\n",
            "cache size\t: 56320 KB\n",
            "physical id\t: 0\n"
          ],
          "name": "stdout"
        },
        {
          "output_type": "display_data",
          "data": {
            "application/javascript": [
              "window[\"6b87b8a4-97f4-11ea-8884-772403f27500\"] = jQuery(\".id_695424692\");\n",
              "//# sourceURL=js_1f53bb6860"
            ],
            "text/plain": [
              "<IPython.core.display.Javascript at 0x7f9dac958518>"
            ]
          },
          "metadata": {
            "tags": []
          }
        },
        {
          "output_type": "display_data",
          "data": {
            "application/javascript": [
              "window[\"6b87d848-97f4-11ea-8884-772403f27500\"] = window[\"6b87b8a4-97f4-11ea-8884-772403f27500\"].remove();\n",
              "//# sourceURL=js_599833da02"
            ],
            "text/plain": [
              "<IPython.core.display.Javascript at 0x7f9dac958518>"
            ]
          },
          "metadata": {
            "tags": []
          }
        }
      ]
    },
    {
      "cell_type": "code",
      "metadata": {
        "id": "jPqsj0yf0_V9",
        "colab_type": "code",
        "outputId": "6af69210-e08f-454a-ba90-c3dc8427d6ad",
        "colab": {
          "height": 17
        }
      },
      "source": [
        "%%shell --out=out --skip_output\n",
        "\n",
        "cat /proc/meminfo | grep MemTotal"
      ],
      "execution_count": 0,
      "outputs": [
        {
          "output_type": "display_data",
          "data": {
            "application/javascript": [
              "window[\"7a94a28a-97f4-11ea-8884-772403f27500\"] = colab.output.setWordWrap(true);\n",
              "//# sourceURL=js_b42a4aac8f"
            ],
            "text/plain": [
              "<IPython.core.display.Javascript at 0x7f9dac7e0860>"
            ]
          },
          "metadata": {
            "tags": []
          }
        },
        {
          "output_type": "display_data",
          "data": {
            "application/javascript": [
              "window[\"7a99a1a4-97f4-11ea-8884-772403f27500\"] = jQuery(\"<div class=id_695424693 style=\\\"margin-right:10px; display:flex;align-items:center;margin-top:10px;\\\"><span style=\\\"margin-right: 3px;\\\"></span></div>\");\n",
              "//# sourceURL=js_885ebc5bf0"
            ],
            "text/plain": [
              "<IPython.core.display.Javascript at 0x7f9db7c72828>"
            ]
          },
          "metadata": {
            "tags": []
          }
        },
        {
          "output_type": "display_data",
          "data": {
            "application/javascript": [
              "window[\"7a99e0f6-97f4-11ea-8884-772403f27500\"] = jQuery(\"#output-footer\");\n",
              "//# sourceURL=js_e32e750a56"
            ],
            "text/plain": [
              "<IPython.core.display.Javascript at 0x7f9db7c72828>"
            ]
          },
          "metadata": {
            "tags": []
          }
        },
        {
          "output_type": "display_data",
          "data": {
            "application/javascript": [
              "window[\"7a99fd2a-97f4-11ea-8884-772403f27500\"] = window[\"7a99a1a4-97f4-11ea-8884-772403f27500\"].appendTo(window[\"7a99e0f6-97f4-11ea-8884-772403f27500\"]);\n",
              "//# sourceURL=js_a47884cfbf"
            ],
            "text/plain": [
              "<IPython.core.display.Javascript at 0x7f9dac958080>"
            ]
          },
          "metadata": {
            "tags": []
          }
        },
        {
          "output_type": "display_data",
          "data": {
            "application/javascript": [
              "window[\"7a9a1800-97f4-11ea-8884-772403f27500\"] = jQuery(\".id_695424693 span\");\n",
              "//# sourceURL=js_bc4f4168af"
            ],
            "text/plain": [
              "<IPython.core.display.Javascript at 0x7f9db7c72828>"
            ]
          },
          "metadata": {
            "tags": []
          }
        },
        {
          "output_type": "display_data",
          "data": {
            "application/javascript": [
              "window[\"7a9a3146-97f4-11ea-8884-772403f27500\"] = window[\"7a9a1800-97f4-11ea-8884-772403f27500\"].text(\">\");\n",
              "//# sourceURL=js_1d464c157d"
            ],
            "text/plain": [
              "<IPython.core.display.Javascript at 0x7f9db7c72828>"
            ]
          },
          "metadata": {
            "tags": []
          }
        },
        {
          "output_type": "display_data",
          "data": {
            "application/javascript": [
              "window[\"7a9aab6c-97f4-11ea-8884-772403f27500\"] = jQuery(\".id_695424693\");\n",
              "//# sourceURL=js_aefda96442"
            ],
            "text/plain": [
              "<IPython.core.display.Javascript at 0x7f9db7c72828>"
            ]
          },
          "metadata": {
            "tags": []
          }
        },
        {
          "output_type": "display_data",
          "data": {
            "application/javascript": [
              "window[\"7a9ac9a8-97f4-11ea-8884-772403f27500\"] = window[\"7a9aab6c-97f4-11ea-8884-772403f27500\"].remove();\n",
              "//# sourceURL=js_69ce5079d1"
            ],
            "text/plain": [
              "<IPython.core.display.Javascript at 0x7f9db7c72828>"
            ]
          },
          "metadata": {
            "tags": []
          }
        }
      ]
    },
    {
      "cell_type": "markdown",
      "metadata": {
        "id": "ZpPSZaph1Fiv",
        "colab_type": "text"
      },
      "source": [
        "## %%HTML"
      ]
    },
    {
      "cell_type": "code",
      "metadata": {
        "id": "Tbqvj2wI1Ikn",
        "colab_type": "code",
        "outputId": "53168ed3-bd1a-4996-e2ed-f0bedd5984a9",
        "colab": {
          "height": 421
        }
      },
      "source": [
        "%%html\n",
        "<svg xmlns=\"http://www.w3.org/2000/svg\" width=\"400\" height=\"400\">\n",
        "  <rect x=\"80\" y=\"60\" width=\"200\" height=\"200\" style=\"fill:green; stroke:black; fill-opacity:0.7\" />\n",
        "  <rect x=\"180\" y=\"110\" width=\"200\" height=\"200\" style=\"fill:lightblue; stroke:black; fill-opacity:0.5;\" />\n",
        "</svg>"
      ],
      "execution_count": 0,
      "outputs": [
        {
          "output_type": "display_data",
          "data": {
            "text/html": [
              "<svg xmlns=\"http://www.w3.org/2000/svg\" width=\"400\" height=\"400\">\n",
              "  <rect x=\"80\" y=\"60\" width=\"200\" height=\"200\" style=\"fill:green; stroke:black; fill-opacity:0.7\" />\n",
              "  <rect x=\"180\" y=\"110\" width=\"200\" height=\"200\" style=\"fill:lightblue; stroke:black; fill-opacity:0.5;\" />\n",
              "</svg>"
            ],
            "text/plain": [
              "<IPython.core.display.HTML at 0x7f9dac958f28>"
            ]
          },
          "metadata": {
            "tags": []
          }
        }
      ]
    },
    {
      "cell_type": "markdown",
      "metadata": {
        "id": "bRWiJO_R13Cj",
        "colab_type": "text"
      },
      "source": [
        "## %% time"
      ]
    },
    {
      "cell_type": "code",
      "metadata": {
        "id": "McsHhxAV15pj",
        "colab_type": "code",
        "outputId": "6437dc8e-7868-47f3-e009-5acd0a131ee9",
        "colab": {
          "base_uri": "https://localhost:8080/",
          "height": 316
        }
      },
      "source": [
        "%%time\n",
        "\n",
        "def iterate_n (n):\n",
        "  for i in range(n):\n",
        "    print(i)\n",
        "iterate_n(15)"
      ],
      "execution_count": 6,
      "outputs": [
        {
          "output_type": "stream",
          "text": [
            "0\n",
            "1\n",
            "2\n",
            "3\n",
            "4\n",
            "5\n",
            "6\n",
            "7\n",
            "8\n",
            "9\n",
            "10\n",
            "11\n",
            "12\n",
            "13\n",
            "14\n",
            "CPU times: user 2.16 ms, sys: 26 µs, total: 2.18 ms\n",
            "Wall time: 1.9 ms\n"
          ],
          "name": "stdout"
        }
      ]
    },
    {
      "cell_type": "code",
      "metadata": {
        "id": "rFRLr7QqmQY7",
        "colab_type": "code",
        "colab": {}
      },
      "source": [
        ""
      ],
      "execution_count": 0,
      "outputs": []
    },
    {
      "cell_type": "code",
      "metadata": {
        "id": "SZBeLPGl1Rtt",
        "colab_type": "code",
        "colab": {
          "base_uri": "https://localhost:8080/",
          "height": 70
        },
        "outputId": "640964d1-5bbe-4dd3-e02c-eb273e9c66fd"
      },
      "source": [
        "#@title Form Demo { run: \"auto\" }\n",
        "input_value =   21#@param\n",
        "slider = 2 #@param { type: \"slider\", min: 2, max: 10, step: 1}\n",
        "print(iterate_n(slider))"
      ],
      "execution_count": 21,
      "outputs": [
        {
          "output_type": "stream",
          "text": [
            "0\n",
            "1\n",
            "None\n"
          ],
          "name": "stdout"
        }
      ]
    }
  ]
}